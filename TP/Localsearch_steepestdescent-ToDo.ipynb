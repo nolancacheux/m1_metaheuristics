{
 "cells": [
  {
   "cell_type": "code",
   "execution_count": 1,
   "metadata": {},
   "outputs": [
    {
     "name": "stdout",
     "output_type": "stream",
     "text": [
      "(15, 15)\n",
      "[[ 0. 29. 82. 46. 68. 52. 72. 42. 51. 55. 29. 74. 23. 72. 46.]\n",
      " [29.  0. 55. 46. 42. 43. 43. 23. 23. 31. 41. 51. 11. 52. 21.]\n",
      " [82. 55.  0. 68. 46. 55. 23. 43. 41. 29. 79. 21. 64. 31. 51.]\n",
      " [46. 46. 68.  0. 82. 15. 72. 31. 62. 42. 21. 51. 51. 43. 64.]\n",
      " [68. 42. 46. 82.  0. 74. 23. 52. 21. 46. 82. 58. 46. 65. 23.]\n",
      " [52. 43. 55. 15. 74.  0. 61. 23. 55. 31. 33. 37. 51. 29. 59.]\n",
      " [72. 43. 23. 72. 23. 61.  0. 42. 23. 31. 77. 37. 51. 46. 33.]\n",
      " [42. 23. 43. 31. 52. 23. 42.  0. 33. 15. 37. 33. 33. 31. 37.]\n",
      " [51. 23. 41. 62. 21. 55. 23. 33.  0. 29. 62. 46. 29. 51. 11.]\n",
      " [55. 31. 29. 42. 46. 31. 31. 15. 29.  0. 51. 21. 41. 23. 37.]\n",
      " [29. 41. 79. 21. 82. 33. 77. 37. 62. 51.  0. 65. 42. 59. 61.]\n",
      " [74. 51. 21. 51. 58. 37. 37. 33. 46. 21. 65.  0. 61. 11. 55.]\n",
      " [23. 11. 64. 51. 46. 51. 51. 33. 29. 41. 42. 61.  0. 62. 23.]\n",
      " [72. 52. 31. 43. 65. 29. 46. 31. 51. 23. 59. 11. 62.  0. 59.]\n",
      " [46. 21. 51. 64. 23. 59. 33. 37. 11. 37. 61. 55. 23. 59.  0.]]\n"
     ]
    },
    {
     "name": "stderr",
     "output_type": "stream",
     "text": [
      "<>:4: SyntaxWarning: invalid escape sequence '\\T'\n",
      "<>:4: SyntaxWarning: invalid escape sequence '\\T'\n",
      "C:\\Users\\nolan\\AppData\\Local\\Temp\\ipykernel_26176\\566037630.py:4: SyntaxWarning: invalid escape sequence '\\T'\n",
      "  tsp_data = np.loadtxt('..\\TSPFiles\\p01.15.291.tsp')\n"
     ]
    }
   ],
   "source": [
    "# load data from tsp file\n",
    "import numpy as np\n",
    "\n",
    "tsp_data = np.loadtxt('..\\TSPFiles\\p01.15.291.tsp')\n",
    "print(tsp_data.shape)\n",
    "print(tsp_data)"
   ]
  },
  {
   "cell_type": "code",
   "execution_count": 2,
   "metadata": {},
   "outputs": [],
   "source": [
    "import math\n",
    "\n",
    "# generate a random solution with a given length\n",
    "def initial_solution(length):\n",
    "    s = np.random.permutation(length)  # Generate a random permutation of numbers from 0 to length-1\n",
    "    return s\n",
    "    \n",
    "# measure the quality of the solution s\n",
    "def objectivefunction(s):\n",
    "    cost = 0\n",
    "    for i in range(len(s) - 1):\n",
    "        cost += tsp_data[s[i], s[i + 1]]  # Add the distance between consecutive cities\n",
    "    cost += tsp_data[s[-1], s[0]]  # Add the distance from the last city back to the first city\n",
    "    return cost\n",
    "            \n",
    "# generate all the neighbors of the solution s\n",
    "def generate_all_neighbors(s):\n",
    "    neighbors_list = []\n",
    "    for i in range(len(s)):\n",
    "        for j in range(i + 1, len(s)):\n",
    "            neighbor = np.copy(s)  # Create a copy of the current solution\n",
    "            neighbor[i], neighbor[j] = neighbor[j], neighbor[i]  # Swap two cities to create a neighbor\n",
    "            neighbors_list.append(neighbor)  # Add the neighbor to the list\n",
    "    return neighbors_list\n",
    "\n",
    "# get the best neighbor and return it with its quality\n",
    "def get_best_neighbor(s):\n",
    "    neighbors = generate_all_neighbors(s)  # Generate all neighbors of the current solution\n",
    "    best_neighbor = None\n",
    "    best_cost = float('inf')  # Initialize the best cost to infinity\n",
    "    for neighbor in neighbors:\n",
    "        cost = objectivefunction(neighbor)  # Calculate the cost of the neighbor\n",
    "        if cost < best_cost:  # If the neighbor's cost is better, update the best cost and best neighbor\n",
    "            best_neighbor = neighbor\n",
    "            best_cost = cost\n",
    "    return best_neighbor, best_cost  # Return the best neighbor and its cost\n"
   ]
  },
  {
   "cell_type": "code",
   "execution_count": 3,
   "metadata": {},
   "outputs": [
    {
     "name": "stdout",
     "output_type": "stream",
     "text": [
      "Best solution: [ 6  2 11 13  9  7  5  3 10  0 12  1 14  8  4]\n",
      "Best cost: 291.0\n"
     ]
    }
   ],
   "source": [
    "import matplotlib.pyplot as plt\n",
    "\n",
    "costs_hist = []  # Initialize an empty list to store the history of costs\n",
    "\n",
    "# Generate a random initial solution and calculate its cost\n",
    "s = initial_solution(tsp_data.shape[0]) \n",
    "cost_s = objectivefunction(s)\n",
    "\n",
    "# Save the initial cost to the history\n",
    "costs_hist.append(cost_s)\n",
    "\n",
    "# Consider the initial solution as the best solution for now\n",
    "best_s = np.copy(s)  # Create a hard copy of the initial solution\n",
    "best_cost = cost_s  # Set the initial cost as the best cost\n",
    "\n",
    "# Start the optimization loop\n",
    "while True:\n",
    "    # Get the best neighbor of the current solution and its cost\n",
    "    neighbor, cost_neighbor = get_best_neighbor(np.copy(s))\n",
    "    \n",
    "    # If the neighbor's cost is better, update the current solution\n",
    "    if cost_neighbor < cost_s:\n",
    "        s = np.copy(neighbor)  # Update the current solution to the neighbor\n",
    "        cost_s = cost_neighbor  # Update the current cost to the neighbor's cost\n",
    "        best_s = s  # Update the best solution to the current solution\n",
    "        best_cost = cost_s  # Update the best cost to the current cost\n",
    "        costs_hist.append(cost_s)  # Save the current cost to the history\n",
    "    else:\n",
    "        break  # If no better neighbor is found, exit the loop\n",
    "\n",
    "# Print the best solution and its cost in a more readable format\n",
    "print('Best solution:', best_s)\n",
    "print('Best cost:', best_cost)"
   ]
  },
  {
   "cell_type": "code",
   "execution_count": 4,
   "metadata": {},
   "outputs": [
    {
     "data": {
      "image/png": "[encoded data removed]",
      "text/plain": [
       "<Figure size 640x480 with 1 Axes>"
      ]
     },
     "metadata": {},
     "output_type": "display_data"
    }
   ],
   "source": [
    "import matplotlib.pyplot as plt  # Import the matplotlib.pyplot module for plotting\n",
    "\n",
    "# Plot the history of costs\n",
    "plt.plot(costs_hist, 'b')  # Plot the costs history with blue color\n",
    "plt.xlabel('Iterations')  # Set the label for the x-axis as 'Iterations'\n",
    "plt.ylabel('Cost')  # Set the label for the y-axis as 'Cost'\n",
    "plt.show()  # Display the plot"
   ]
  },
  {
   "cell_type": "code",
   "execution_count": null,
   "metadata": {},
   "outputs": [],
   "source": [
    "# Convert distance matrix between cities into coordinates of cities using MDS (Multidimensional Scaling)\n",
    "from sklearn import manifold  # Import the manifold module from sklearn for MDS\n",
    "\n",
    "length = tsp_data.shape[0]  # Get the number of cities from the shape of tsp_data\n",
    "mds_model = manifold.MDS(n_components=2, random_state=length, dissimilarity='precomputed')  # Create an MDS model with 2 components and precomputed dissimilarity\n",
    "mds_fit = mds_model.fit(tsp_data)  # Fit the MDS model to the tsp_data\n",
    "mds_coords = mds_model.fit_transform(tsp_data)  # Transform the distance matrix into 2D coordinates\n",
    "\n",
    "# Plot a random solution over cities\n",
    "s = initial_solution(length)  # Generate a random initial solution\n",
    "fig, ax = plt.subplots(1, 1, figsize=(6, 6))  # Create a new figure and axis for plotting\n",
    "ax.plot(mds_coords[s, 0], mds_coords[s, 1], 'b-o', label='Random Solution')  # Plot the random solution on the 2D coordinates\n",
    "ax.plot([mds_coords[s[0], 0], mds_coords[s[-1], 0]], [mds_coords[s[0], 1], mds_coords[s[-1], 1]], 'b-o')  # Connect the first and last cities to complete the tour\n",
    "ax.set_title('Random Solution Tour')  # Set the title of the plot\n",
    "ax.set_xlabel('MDS Dimension 1')  # Set the label for the x-axis\n",
    "ax.set_ylabel('MDS Dimension 2')  # Set the label for the y-axis\n",
    "ax.legend()  # Add a legend to the plot\n",
    "plt.show()  # Display the plot\n",
    "\n",
    "# Plot the best solution over cities\n",
    "fig, ax = plt.subplots(1, 1, figsize=(6, 6))  # Create another new figure and axis for plotting\n",
    "ax.plot(mds_coords[best_s, 0], mds_coords[best_s, 1], 'r-o', label='Best Solution')  # Plot the best solution on the 2D coordinates\n",
    "ax.plot([mds_coords[best_s[0], 0], mds_coords[best_s[-1], 0]], [mds_coords[best_s[0], 1], mds_coords[best_s[-1], 1]], 'r-o')  # Connect the first and last cities to complete the tour\n",
    "ax.set_title('Best Solution Tour')  # Set the title of the plot\n",
    "ax.set_xlabel('MDS Dimension 1')  # Set the label for the x-axis\n",
    "ax.set_ylabel('MDS Dimension 2')  # Set the label for the y-axis\n",
    "ax.legend()  # Add a legend to the plot\n",
    "plt.show()  # Display the plot\n"
   ]
  }
 ],
 "metadata": {
  "kernelspec": {
   "display_name": "Nolan_env",
   "language": "python",
   "name": "python3"
  },
  "language_info": {
   "codemirror_mode": {
    "name": "ipython",
    "version": 3
   },
   "file_extension": ".py",
   "mimetype": "text/x-python",
   "name": "python",
   "nbconvert_exporter": "python",
   "pygments_lexer": "ipython3",
   "version": "3.12.5"
  }
 },
 "nbformat": 4,
 "nbformat_minor": 4
}
