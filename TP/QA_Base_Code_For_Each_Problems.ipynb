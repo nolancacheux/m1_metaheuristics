{
 "cells": [
  {
   "cell_type": "markdown",
   "metadata": {},
   "source": [
    "\n",
    "\n",
    "## **Population solution based metaheuristics (P-metaheuristics)**  \n",
    "\n",
    "## **P-metaheuristics – Genetic Algorithms (GA)**  \n",
    "\n",
    "### **Introduction**  \n",
    "#### **Evolution theory of Charles Darwin**  \n",
    "Dans une population, les individus sont différents les uns des autres, et certains sont mieux adaptés à leur environnement.  \n",
    "Cela augmente leurs chances de survie et de reproduction.  \n",
    "Les générations suivantes hériteront de ces caractéristiques avantageuses, qui deviendront prédominantes dans la population.\n",
    "\n",
    "---\n",
    "\n",
    "## **Design**  \n",
    "### **Génération de population**  \n",
    "- Génération d'une population initiale  \n",
    "- Remplacement de la population  \n",
    "\n",
    "### **Modèle général des P-métaheuristiques**  \n",
    "1. **Initialisation** :  \n",
    "   - \\( P = P_0 \\) /* Génération de la population initiale */  \n",
    "   - \\( t = 0 \\)  \n",
    "\n",
    "2. **Boucle principale** :  \n",
    "   - **Répéter**  \n",
    "     - Générer \\( P'_t \\) /* Nouvelle population */  \n",
    "     - \\( P_{t+1} = \\text{Select-Population}(P_t \\cup P'_t) \\) /* Sélection */  \n",
    "     - \\( t = t + 1 \\)  \n",
    "\n",
    "3. **Arrêt** :  \n",
    "   - Jusqu'à ce que les critères d'arrêt soient remplis.  \n",
    "   - **Sortie** : Meilleure(s) solution(s) trouvée(s).  \n",
    "\n",
    "### **Species Evolution**  \n",
    "L'évolution est **progressive, très lente** et peut nécessiter **des milliers voire des millions d'années**.\n",
    "\n",
    "---\n",
    "\n",
    "## **Pipeline : 6 Étapes**  \n",
    "### **1. Initialisation**  \n",
    "#### **Population initiale**  \n",
    "- **Diversification**  \n",
    "- **Multiples stratégies**  \n",
    "\n",
    "| Stratégie                     | Diversité | Coût Computationnel | Qualité des Solutions Initiales |\n",
    "|--------------------------------|----------|----------------------|----------------------------------|\n",
    "| Pseudo-aléatoire              | ++       | +++                  | +                                |\n",
    "| Quasi-aléatoire               | +++      | +                    | +                                |\n",
    "| Diversification séquentielle  | ++++     | ++                   | +                                |\n",
    "| Diversification parallèle     | ++++     | +++                  | +                                |\n",
    "| Heuristique                   | +        | +                    | +++                              |\n",
    "\n",
    "- **Processus** :  \n",
    "  1. Générer \\( Q \\) solutions aléatoires.  \n",
    "  2. Diversification séquentielle des \\( P-Q \\) solutions.  \n",
    "  3. Population totale : \\( P \\) individus.\n",
    "\n",
    "---\n"
   ]
  },
  {
   "cell_type": "code",
   "execution_count": null,
   "metadata": {},
   "outputs": [],
   "source": []
  },
  {
   "cell_type": "markdown",
   "metadata": {},
   "source": [
    "\n",
    "### **2. Évaluation**  \n",
    "#### **Fonction de fitness (Fitness Function)** *(Dépend du problème)*  \n",
    "\n",
    "- **Problème du Voyageur de Commerce (TSP)**  \n",
    "  - Représentation sous forme de permutation :  \n",
    "    \\( \\pi = (\\pi_1, \\pi_2, \\dots, \\pi_n) \\)  \n",
    "\n",
    "- **Calcul de la distance totale du parcours** :  \n",
    "  \\[\n",
    "  f(s) = \\sum_{i=1}^{n-1} d_{\\pi(i),\\pi(i+1)}\n",
    "  \\]  \n",
    "  où \\( d_{\\pi(i),\\pi(i+1)} \\) représente la distance entre deux villes successives.\n",
    "\n",
    "- **Importance** :  \n",
    "  ✅ Guide l'évolution en sélectionnant les meilleures solutions.  \n",
    "  ✅ Optimise des problèmes combinatoires comme le TSP.  \n",
    "  ✅ Aide à converger vers une solution optimale.\n",
    "\n",
    "---\n"
   ]
  },
  {
   "cell_type": "code",
   "execution_count": 12,
   "metadata": {},
   "outputs": [],
   "source": []
  },
  {
   "cell_type": "markdown",
   "metadata": {},
   "source": [
    "\n",
    "### **3. Sélection**  \n",
    "#### **Tournoi (Tournament Selection)**  \n",
    "- **Stratégie de sélection** :  \n",
    "  - Sélectionne **\\( k = 3 \\)** individus aléatoirement.  \n",
    "  - Le **meilleur** des trois est retenu.  \n",
    "\n",
    "- **Illustration du processus** :  \n",
    "  - **Population initiale** → **Sélection aléatoire** → **Meilleur individu sélectionné**.  \n",
    "\n",
    "- **Avantage** :  \n",
    "  ✅ Favorise les solutions de meilleure qualité tout en **conservant la diversité**.\n",
    "\n",
    "#### **Roulette Wheel Selection** *(Roulette de sélection)*  \n",
    "- **Principe** :  \n",
    "  - Chaque individu reçoit une **probabilité de sélection proportionnelle** à sa fitness :  \n",
    "    \\[\n",
    "    p_i = \\frac{f_i}{\\sum_{j=1}^{n} f_j}\n",
    "    \\]  \n",
    "\n",
    "- **Deux approches** :  \n",
    "  1. **Roulette Wheel Selection** → Sélectionne **un individu unique** par tour.  \n",
    "  2. **Stochastic Universal Sampling (SUS)** → Sélectionne **plusieurs individus** par tour.  \n",
    "\n",
    "- **Avantage** :  \n",
    "  ✅ Favorise les **meilleurs individus** tout en maintenant la diversité génétique.\n",
    "\n",
    "#### **Sélection basée sur le rang (Rank-based selection)**  \n",
    "- **Principe** :  \n",
    "  - Classement des individus selon leur **fitness**.  \n",
    "  - Attribution d’une **probabilité de sélection basée sur le rang**.  \n",
    "\n",
    "- **Formule** :  \n",
    "  \\[\n",
    "  P(i) = \\frac{2 - s}{\\mu} + \\frac{2 \\cdot r(i)(s - 1)}{\\mu (\\mu - 1)}\n",
    "  \\]  \n",
    "  où :  \n",
    "  - \\( 1.0 < s \\leq 2.0 \\) est la **pression de sélection**.  \n",
    "  - \\( \\mu \\) est la **taille de la population**.  \n",
    "  - \\( r(i) \\) est le **rang** de l’individu.  \n",
    "\n",
    "---\n"
   ]
  },
  {
   "cell_type": "code",
   "execution_count": null,
   "metadata": {},
   "outputs": [],
   "source": []
  },
  {
   "cell_type": "markdown",
   "metadata": {},
   "source": [
    "\n",
    "### **4. Reproduction**  \n",
    "#### **Crossover (Croisement) – Probabilité Élevée**  \n",
    "- **Héritabilité** : Transmission des caractéristiques des parents.  \n",
    "- **Validité** : Maintien de solutions valides.  \n",
    "\n",
    "#### **Mutation (Faible Probabilité)**  \n",
    "- **Localité** : Modifie légèrement un individu pour explorer de nouvelles solutions.  \n",
    "- **Validité** : Maintient une solution acceptable après mutation.  \n",
    "\n",
    "- **Exemple de mutation** :  \n",
    "  - Avant mutation : `1 0 0 1 **1** 0 1 1`  \n",
    "  - Après mutation  : `1 0 0 1 **0** 0 1 1`  \n",
    "\n",
    "- **Avantage** :  \n",
    "  ✅ Introduit de nouvelles variations pour éviter les **optima locaux**.  \n",
    "\n",
    "---\n"
   ]
  },
  {
   "cell_type": "code",
   "execution_count": null,
   "metadata": {},
   "outputs": [],
   "source": []
  },
  {
   "cell_type": "markdown",
   "metadata": {},
   "source": [
    "\n",
    "### **5. Évaluation**  \n",
    "- **Mesure la qualité des solutions** via la **fonction de fitness**.  \n",
    "- Guide la convergence vers une solution optimale.  \n",
    "\n",
    "---\n"
   ]
  },
  {
   "cell_type": "code",
   "execution_count": null,
   "metadata": {},
   "outputs": [],
   "source": []
  },
  {
   "cell_type": "markdown",
   "metadata": {},
   "source": [
    "\n",
    "### **6. Remplacement (Replacement)**  \n",
    "- **Sélection des survivants** : Parents vs. Offsprings.  \n",
    "- **Stratégies de remplacement** :  \n",
    "  - **Générationnelle** : Les **descendants remplacent** totalement la population précédente.  \n",
    "  - **Steady-State** : Seul le **pire parent est remplacé** par le meilleur descendant.  \n",
    "  - **Élitisme** : **Les meilleurs individus** sont conservés à travers les générations.  \n",
    "\n",
    "#### **Critères d'arrêt**  \n",
    "- **Statique** → Nombre d'**itérations max**.  \n",
    "- **Dynamique** → Nombre d'**itérations sans amélioration** ou critères statistiques.  \n",
    "\n",
    "---\n"
   ]
  },
  {
   "cell_type": "code",
   "execution_count": null,
   "metadata": {},
   "outputs": [],
   "source": []
  },
  {
   "cell_type": "markdown",
   "metadata": {},
   "source": [
    "\n",
    "## **Conclusion**  \n",
    "Les **algorithmes génétiques (GA)** sont une méthode puissante d'optimisation inspirée de l'évolution biologique.  \n",
    "Ils permettent de **trouver des solutions optimales** dans des espaces de recherche complexes grâce à :  \n",
    "✅ **Sélection efficace** des meilleurs individus  \n",
    "✅ **Recombinaison génétique (crossover)**  \n",
    "✅ **Mutation contrôlée** pour éviter la stagnation  \n",
    "✅ **Évaluation rigoureuse** pour guider la convergence  \n",
    "\n"
   ]
  },
  {
   "cell_type": "markdown",
   "metadata": {},
   "source": []
  },
  {
   "cell_type": "markdown",
   "metadata": {},
   "source": []
  },
  {
   "cell_type": "code",
   "execution_count": null,
   "metadata": {},
   "outputs": [],
   "source": []
  }
 ],
 "metadata": {
  "kernelspec": {
   "display_name": "nolan_env",
   "language": "python",
   "name": "python3"
  },
  "language_info": {
   "codemirror_mode": {
    "name": "ipython",
    "version": 3
   },
   "file_extension": ".py",
   "mimetype": "text/x-python",
   "name": "python",
   "nbconvert_exporter": "python",
   "pygments_lexer": "ipython3",
   "version": "3.12.8"
  }
 },
 "nbformat": 4,
 "nbformat_minor": 2
}
