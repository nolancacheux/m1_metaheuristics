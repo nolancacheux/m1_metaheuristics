{
 "cells": [
  {
   "cell_type": "markdown",
   "metadata": {},
   "source": [
    "CACHEUX Nolan"
   ]
  },
  {
   "cell_type": "code",
   "execution_count": 1,
   "metadata": {},
   "outputs": [
    {
     "name": "stdout",
     "output_type": "stream",
     "text": [
      "Data shape: (17, 17)\n"
     ]
    }
   ],
   "source": [
    "import numpy as np\n",
    "import random\n",
    "import math\n",
    "import matplotlib.pyplot as plt\n",
    "\n",
    "tsp_data = np.loadtxt('../TSPDataset/gr17.2085.tsp')  # Adjust path as needed\n",
    "print(\"Data shape:\", tsp_data.shape)\n"
   ]
  },
  {
   "cell_type": "code",
   "execution_count": 2,
   "metadata": {},
   "outputs": [
    {
     "name": "stdout",
     "output_type": "stream",
     "text": [
      "Best route: [12, 6, 7, 5, 16, 13, 14, 2, 10, 9, 1, 4, 8, 11, 15, 0, 3]\n",
      "Best distance: 2085.0\n"
     ]
    }
   ],
   "source": [
    "import numpy as np\n",
    "import random\n",
    "import math\n",
    "import matplotlib.pyplot as plt\n",
    "\n",
    "\n",
    "n_cities = tsp_data.shape[0]\n",
    "n_ants = 20\n",
    "alpha = 1.0              # Importance of pheromone\n",
    "beta = 2.0               # Importance of heuristic (1/distance)\n",
    "evaporation_rate = 0.5   # Pheromone evaporation rate\n",
    "Q = 1.0                  # Pheromone deposit factor\n",
    "n_iterations = 100\n",
    "random_seed = 42         # For reproducibility\n",
    "\n",
    "random.seed(random_seed)\n",
    "np.random.seed(random_seed)\n",
    "\n",
    "# INITIALIZE PHEROMONE & HEURISTIC MATRICES\n",
    "pheromone = np.ones((n_cities, n_cities))\n",
    "heuristic = np.zeros((n_cities, n_cities))\n",
    "for i in range(n_cities):\n",
    "    for j in range(n_cities):\n",
    "        if i != j:\n",
    "            # If the distance is zero, add a small number to avoid division by zero.\n",
    "            heuristic[i][j] = 1.0 / (tsp_data[i][j] + 1e-10)\n",
    "        else:\n",
    "            heuristic[i][j] = 0.0\n",
    "\n",
    "best_route = None\n",
    "best_distance = float('inf')\n",
    "\n",
    "\n",
    "def select_next_city(current_city, unvisited):\n",
    "    \"\"\"\n",
    "    Select the next city based on roulette wheel selection using\n",
    "    (pheromone^alpha) * (heuristic^beta) probabilities.\n",
    "    \"\"\"\n",
    "    pheromone_vals = np.array([pheromone[current_city][u] for u in unvisited])\n",
    "    heuristic_vals = np.array([heuristic[current_city][u] for u in unvisited])\n",
    "    probs = (pheromone_vals ** alpha) * (heuristic_vals ** beta)\n",
    "    probs_sum = np.sum(probs)\n",
    "    if probs_sum == 0:\n",
    "        return random.choice(list(unvisited))\n",
    "    probs = probs / probs_sum\n",
    "\n",
    "    r = random.random()\n",
    "    cumulative = 0.0\n",
    "    for i, city in enumerate(unvisited):\n",
    "        cumulative += probs[i]\n",
    "        if r <= cumulative:\n",
    "            return city\n",
    "    return list(unvisited)[-1]\n",
    "\n",
    "\n",
    "def update_pheromone(routes):\n",
    "    global pheromone\n",
    "    # Evaporate pheromone on all edges\n",
    "    pheromone *= (1 - evaporation_rate)\n",
    "    # Deposit new pheromone for each ant's route\n",
    "    for route in routes:\n",
    "        # Compute the route's total distance inline\n",
    "        d = 0.0\n",
    "        for i in range(len(route) - 1):\n",
    "            d += tsp_data[route[i]][route[i+1]]\n",
    "        d += tsp_data[route[-1]][route[0]]  # Return to start\n",
    "\n",
    "        deposit = Q / d\n",
    "        # Deposit pheromone for each edge in the route (including the return edge)\n",
    "        for i in range(len(route) - 1):\n",
    "            a, b = route[i], route[i+1]\n",
    "            pheromone[a][b] += deposit\n",
    "            pheromone[b][a] += deposit\n",
    "        pheromone[route[-1]][route[0]] += deposit\n",
    "        pheromone[route[0]][route[-1]] += deposit\n",
    "\n",
    "\n",
    "for iteration in range(n_iterations):\n",
    "    all_routes = []\n",
    "    for _ in range(n_ants):\n",
    "        # ---- Construct a route (inline, without a separate function) ----\n",
    "        route = []\n",
    "        start_city = random.randint(0, n_cities - 1)\n",
    "        route.append(start_city)\n",
    "        unvisited = set(range(n_cities))\n",
    "        unvisited.remove(start_city)\n",
    "        current_city = start_city\n",
    "\n",
    "        # Build the route until all cities are visited\n",
    "        while unvisited:\n",
    "            next_city = select_next_city(current_city, unvisited)\n",
    "            route.append(next_city)\n",
    "            unvisited.remove(next_city)\n",
    "            current_city = next_city\n",
    "\n",
    "        all_routes.append(route)\n",
    "\n",
    "        # ---- Compute the route's total distance inline (without a separate function) ----\n",
    "        d = 0.0\n",
    "        for i in range(len(route) - 1):\n",
    "            d += tsp_data[route[i]][route[i+1]]\n",
    "        d += tsp_data[route[-1]][route[0]]  # complete the tour\n",
    "\n",
    "        if d < best_distance:\n",
    "            best_distance = d\n",
    "            best_route = route\n",
    "\n",
    "    update_pheromone(all_routes)\n",
    "    # Uncomment to see progress: \n",
    "    # print(f\"Iteration {iteration+1}/{n_iterations}, Best distance: {best_distance:.2f}\")\n",
    "\n",
    "print(\"Best route:\", best_route)\n",
    "print(\"Best distance:\", best_distance)\n",
    "\n"
   ]
  },
  {
   "cell_type": "code",
   "execution_count": 3,
   "metadata": {},
   "outputs": [
    {
     "name": "stdout",
     "output_type": "stream",
     "text": [
      "Requirement already satisfied: python-tsp in c:\\users\\nolan\\anaconda3\\envs\\v2\\lib\\site-packages (0.5.0)Note: you may need to restart the kernel to use updated packages.\n",
      "\n",
      "Requirement already satisfied: numpy<3.0.0,>=2.0.0 in c:\\users\\nolan\\anaconda3\\envs\\v2\\lib\\site-packages (from python-tsp) (2.0.2)\n",
      "Requirement already satisfied: requests<3.0.0,>=2.28.0 in c:\\users\\nolan\\anaconda3\\envs\\v2\\lib\\site-packages (from python-tsp) (2.32.3)\n",
      "Requirement already satisfied: tsplib95<0.8.0,>=0.7.1 in c:\\users\\nolan\\anaconda3\\envs\\v2\\lib\\site-packages (from python-tsp) (0.7.1)\n",
      "Requirement already satisfied: charset-normalizer<4,>=2 in c:\\users\\nolan\\anaconda3\\envs\\v2\\lib\\site-packages (from requests<3.0.0,>=2.28.0->python-tsp) (3.4.1)\n",
      "Requirement already satisfied: idna<4,>=2.5 in c:\\users\\nolan\\anaconda3\\envs\\v2\\lib\\site-packages (from requests<3.0.0,>=2.28.0->python-tsp) (3.10)\n",
      "Requirement already satisfied: urllib3<3,>=1.21.1 in c:\\users\\nolan\\anaconda3\\envs\\v2\\lib\\site-packages (from requests<3.0.0,>=2.28.0->python-tsp) (2.3.0)\n",
      "Requirement already satisfied: certifi>=2017.4.17 in c:\\users\\nolan\\anaconda3\\envs\\v2\\lib\\site-packages (from requests<3.0.0,>=2.28.0->python-tsp) (2025.1.31)\n",
      "Requirement already satisfied: Click>=6.0 in c:\\users\\nolan\\anaconda3\\envs\\v2\\lib\\site-packages (from tsplib95<0.8.0,>=0.7.1->python-tsp) (8.1.8)\n",
      "Requirement already satisfied: Deprecated~=1.2.9 in c:\\users\\nolan\\anaconda3\\envs\\v2\\lib\\site-packages (from tsplib95<0.8.0,>=0.7.1->python-tsp) (1.2.18)\n",
      "Requirement already satisfied: networkx~=2.1 in c:\\users\\nolan\\anaconda3\\envs\\v2\\lib\\site-packages (from tsplib95<0.8.0,>=0.7.1->python-tsp) (2.8.8)\n",
      "Requirement already satisfied: tabulate~=0.8.7 in c:\\users\\nolan\\anaconda3\\envs\\v2\\lib\\site-packages (from tsplib95<0.8.0,>=0.7.1->python-tsp) (0.8.10)\n",
      "Requirement already satisfied: colorama in c:\\users\\nolan\\anaconda3\\envs\\v2\\lib\\site-packages (from Click>=6.0->tsplib95<0.8.0,>=0.7.1->python-tsp) (0.4.6)\n",
      "Requirement already satisfied: wrapt<2,>=1.10 in c:\\users\\nolan\\anaconda3\\envs\\v2\\lib\\site-packages (from Deprecated~=1.2.9->tsplib95<0.8.0,>=0.7.1->python-tsp) (1.17.2)\n"
     ]
    }
   ],
   "source": [
    "%pip install python-tsp"
   ]
  },
  {
   "cell_type": "code",
   "execution_count": 4,
   "metadata": {},
   "outputs": [
    {
     "name": "stdout",
     "output_type": "stream",
     "text": [
      "python-tsp Results (Exact DP)\n",
      "Permutation (python-tsp): [0, 3, 12, 6, 7, 5, 16, 13, 14, 2, 10, 9, 1, 4, 8, 11, 15]\n",
      "Distance (python-tsp): 2085.0\n"
     ]
    }
   ],
   "source": [
    "# Compare with a python-tsp library solution\n",
    "from python_tsp.exact import solve_tsp_dynamic_programming\n",
    "\n",
    "permutation, distance_lib = solve_tsp_dynamic_programming(tsp_data)\n",
    "print(\"python-tsp Results (Exact DP)\")\n",
    "print(\"Permutation (python-tsp):\", permutation)\n",
    "print(\"Distance (python-tsp):\", distance_lib)\n"
   ]
  }
 ],
 "metadata": {
  "kernelspec": {
   "display_name": "V2",
   "language": "python",
   "name": "python3"
  },
  "language_info": {
   "codemirror_mode": {
    "name": "ipython",
    "version": 3
   },
   "file_extension": ".py",
   "mimetype": "text/x-python",
   "name": "python",
   "nbconvert_exporter": "python",
   "pygments_lexer": "ipython3",
   "version": "3.12.8"
  }
 },
 "nbformat": 4,
 "nbformat_minor": 2
}
