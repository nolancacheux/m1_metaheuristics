{
 "cells": [
  {
   "cell_type": "markdown",
   "metadata": {},
   "source": [
    "\n",
    "\n",
    "## **Population solution based metaheuristics (P-metaheuristics)**  \n",
    "\n",
    "## **P-metaheuristics – Genetic Algorithms (GA)**  \n",
    "\n",
    "### **Introduction**  \n",
    "#### **Evolution theory of Charles Darwin**  \n",
    "Dans une population, les individus sont différents les uns des autres, et certains sont mieux adaptés à leur environnement.  \n",
    "Cela augmente leurs chances de survie et de reproduction.  \n",
    "Les générations suivantes hériteront de ces caractéristiques avantageuses, qui deviendront prédominantes dans la population.\n",
    "\n",
    "---\n",
    "\n",
    "## **Design**  \n",
    "### **Génération de population**  \n",
    "- Génération d'une population initiale  \n",
    "- Remplacement de la population  \n",
    "\n",
    "### **Modèle général des P-métaheuristiques**  \n",
    "1. **Initialisation** :  \n",
    "   - \\( P = P_0 \\) /* Génération de la population initiale */  \n",
    "   - \\( t = 0 \\)  \n",
    "\n",
    "2. **Boucle principale** :  \n",
    "   - **Répéter**  \n",
    "     - Générer \\( P'_t \\) /* Nouvelle population */  \n",
    "     - \\( P_{t+1} = \\text{Select-Population}(P_t \\cup P'_t) \\) /* Sélection */  \n",
    "     - \\( t = t + 1 \\)  \n",
    "\n",
    "3. **Arrêt** :  \n",
    "   - Jusqu'à ce que les critères d'arrêt soient remplis.  \n",
    "   - **Sortie** : Meilleure(s) solution(s) trouvée(s).  \n",
    "\n",
    "### **Species Evolution**  \n",
    "L'évolution est **progressive, très lente** et peut nécessiter **des milliers voire des millions d'années**.\n",
    "\n",
    "---\n",
    "\n",
    "## **Pipeline : 6 Étapes**  \n",
    "### **1. Initialisation**  \n",
    "#### **Population initiale**  \n",
    "- **Diversification**  \n",
    "- **Multiples stratégies**  \n",
    "\n",
    "| Stratégie                     | Diversité | Coût Computationnel | Qualité des Solutions Initiales |\n",
    "|--------------------------------|----------|----------------------|----------------------------------|\n",
    "| Pseudo-aléatoire              | ++       | +++                  | +                                |\n",
    "| Quasi-aléatoire               | +++      | +                    | +                                |\n",
    "| Diversification séquentielle  | ++++     | ++                   | +                                |\n",
    "| Diversification parallèle     | ++++     | +++                  | +                                |\n",
    "| Heuristique                   | +        | +                    | +++                              |\n",
    "\n",
    "- **Processus** :  \n",
    "  1. Générer \\( Q \\) solutions aléatoires.  \n",
    "  2. Diversification séquentielle des \\( P-Q \\) solutions.  \n",
    "  3. Population totale : \\( P \\) individus.\n",
    "\n",
    "---\n"
   ]
  },
  {
   "cell_type": "code",
   "execution_count": 43,
   "metadata": {},
   "outputs": [
    {
     "name": "stdout",
     "output_type": "stream",
     "text": [
      "Population for Max-One problem:\n",
      "[[0 0 1 0 1 0 1 0]\n",
      " [1 0 0 1 1 1 1 0]\n",
      " [0 1 1 1 0 0 0 0]\n",
      " [0 0 1 1 1 0 0 1]\n",
      " [1 1 0 1 0 1 0 0]\n",
      " [1 0 1 0 1 0 1 0]\n",
      " [1 1 0 1 1 1 1 0]\n",
      " [0 1 0 1 0 0 0 0]\n",
      " [0 0 1 0 1 0 0 1]\n",
      " [1 1 0 1 1 1 0 0]]\n"
     ]
    }
   ],
   "source": [
    "import numpy as np\n",
    "\n",
    "def initialize_population(num_genes, population_size, Q):\n",
    "    # Step 1: Generate Q random solutions\n",
    "    random_solutions = np.random.randint(2, size=(Q, num_genes))\n",
    "    \n",
    "    # Step 2: Sequential diversification for P-Q solutions\n",
    "    diversified_solutions = np.copy(random_solutions)\n",
    "    for i in range(population_size - Q):\n",
    "        diversified_solution = np.copy(random_solutions[i % Q])\n",
    "        flip_index = i % num_genes  # Sequentially flip each bit\n",
    "        diversified_solution[flip_index] = 1 - diversified_solution[flip_index]\n",
    "        diversified_solutions = np.vstack([diversified_solutions, diversified_solution])\n",
    "    \n",
    "    return diversified_solutions\n",
    "\n",
    "# Define parameters for Max-One problem\n",
    "num_genes = 8\n",
    "population_size = 10\n",
    "Q = 5\n",
    "\n",
    "# Initialize population\n",
    "population_max_one = initialize_population(num_genes, population_size, Q)\n",
    "\n",
    "# Print the generated population\n",
    "print(\"Population for Max-One problem:\")\n",
    "print(population_max_one)\n"
   ]
  },
  {
   "cell_type": "markdown",
   "metadata": {},
   "source": [
    "### **2. Évaluation**  \n",
    "#### **Fonction de fitness (Fitness Function)** *(Dépend du problème)*  \n",
    "\n",
    "- **Problème du Max-One**  \n",
    "  - Représentation sous forme de **chaîne binaire** :  \n",
    "    \\[\n",
    "    s = (b_1, b_2, ..., b_n), \\quad b_i \\in \\{0,1\\}\n",
    "    \\]  \n",
    "\n",
    "- **Calcul du score de fitness** :  \n",
    "  - La fitness correspond au **nombre total de \"1\" dans la chaîne** :  \n",
    "    \\[\n",
    "    f(s) = \\sum_{i=1}^{n} b_i\n",
    "    \\]  \n",
    "    où chaque \\( b_i \\) est un bit de la solution.\n",
    "\n",
    "- **Importance** :  \n",
    "  ✅ Guide l'évolution en favorisant les individus avec plus de \"1\".  \n",
    "  ✅ Encourage la convergence vers la solution optimale \\( (1,1,1,...,1) \\).  \n",
    "  ✅ Simple et efficace pour tester des algorithmes génétiques.  \n"
   ]
  },
  {
   "cell_type": "code",
   "execution_count": 44,
   "metadata": {},
   "outputs": [
    {
     "name": "stdout",
     "output_type": "stream",
     "text": [
      "Fitness values:\n",
      "[3 5 3 4 4 4 6 2 3 5]\n"
     ]
    }
   ],
   "source": [
    "# Define the fitness function for the Max-One problem\n",
    "def fitness_max_one(individual):\n",
    "    return np.sum(individual)\n",
    "\n",
    "# Evaluate the fitness of the entire population\n",
    "def evaluate_population(population):\n",
    "    return np.array([fitness_max_one(ind) for ind in population])\n",
    "\n",
    "# Run the evaluation phase\n",
    "fitness_values = evaluate_population(population_max_one)\n",
    "\n",
    "# Display the fitness values\n",
    "print(\"Fitness values:\")\n",
    "print(fitness_values)\n"
   ]
  },
  {
   "cell_type": "markdown",
   "metadata": {},
   "source": [
    "\n",
    "### **3. Sélection**  \n",
    "#### **Tournoi (Tournament Selection)**  \n",
    "- **Stratégie de sélection** :  \n",
    "  - Sélectionne **\\( k = 3 \\)** individus aléatoirement.  \n",
    "  - Le **meilleur** des trois est retenu.  \n",
    "\n",
    "- **Illustration du processus** :  \n",
    "  - **Population initiale** → **Sélection aléatoire** → **Meilleur individu sélectionné**.  \n",
    "\n",
    "- **Avantage** :  \n",
    "  ✅ Favorise les solutions de meilleure qualité tout en **conservant la diversité**.\n"
   ]
  },
  {
   "cell_type": "code",
   "execution_count": 45,
   "metadata": {},
   "outputs": [
    {
     "name": "stdout",
     "output_type": "stream",
     "text": [
      "Selected individual (Tournament Selection):\n",
      "[1 1 0 1 1 1 1 0]\n"
     ]
    }
   ],
   "source": [
    "def tournament_selection(population, fitness_values, k=3):\n",
    "    # Randomly select k individuals from the population\n",
    "    selected_indices = np.random.choice(len(population), k, replace=False)\n",
    "    \n",
    "    # Find the individual with the highest fitness among the selected\n",
    "    best_index = selected_indices[np.argmax(fitness_values[selected_indices])]\n",
    "    #np.argmax returns the index of the maximum value in the array\n",
    "    \n",
    "    # Return the best individual\n",
    "    return population[best_index]\n",
    "\n",
    "# Example usage\n",
    "selected_individual = tournament_selection(population_max_one, fitness_values)\n",
    "print(\"Selected individual (Tournament Selection):\")\n",
    "print(selected_individual)\n"
   ]
  },
  {
   "cell_type": "markdown",
   "metadata": {},
   "source": [
    "\n",
    "#### **Roulette Wheel Selection** *(Roulette de sélection)*  \n",
    "- **Principe** :  \n",
    "  - Chaque individu reçoit une **probabilité de sélection proportionnelle** à sa fitness :  \n",
    "    \\[\n",
    "    p_i = \\frac{f_i}{\\sum_{j=1}^{n} f_j}\n",
    "    \\]  \n",
    "\n",
    "- **Deux approches** :  \n",
    "  1. **Roulette Wheel Selection** → Sélectionne **un individu unique** par tour.  \n",
    "  2. **Stochastic Universal Sampling (SUS)** → Sélectionne **plusieurs individus** par tour.  \n",
    "\n",
    "- **Avantage** :  \n",
    "  ✅ Favorise les **meilleurs individus** tout en maintenant la diversité génétique.\n"
   ]
  },
  {
   "cell_type": "code",
   "execution_count": 46,
   "metadata": {},
   "outputs": [
    {
     "name": "stdout",
     "output_type": "stream",
     "text": [
      "Selected individual (Roulette Wheel Selection):\n",
      "[0 0 1 1 1 0 0 1]\n"
     ]
    }
   ],
   "source": [
    "def roulette_wheel_selection(population, fitness_values):\n",
    "    # Calculate selection probabilities based on fitness values\n",
    "    probabilities = fitness_values / np.sum(fitness_values)\n",
    "    selected_index = np.random.choice(len(population), p=probabilities)\n",
    "    return population[selected_index]\n",
    "\n",
    "# Example usage\n",
    "selected_individual_rw = roulette_wheel_selection(population_max_one, fitness_values)\n",
    "print(\"Selected individual (Roulette Wheel Selection):\")\n",
    "print(selected_individual_rw)\n"
   ]
  },
  {
   "cell_type": "markdown",
   "metadata": {},
   "source": [
    "\n",
    "#### **Sélection basée sur le rang (Rank-based selection)**  \n",
    "- **Principe** :  \n",
    "  - Classement des individus selon leur **fitness**.  \n",
    "  - Attribution d’une **probabilité de sélection basée sur le rang**.  \n",
    "\n",
    "- **Formule** :  \n",
    "  \\[\n",
    "  P(i) = \\frac{2 - s}{\\mu} + \\frac{2 \\cdot r(i)(s - 1)}{\\mu (\\mu - 1)}\n",
    "  \\]  \n",
    "  où :  \n",
    "  - \\( 1.0 < s \\leq 2.0 \\) est la **pression de sélection**.  \n",
    "  - \\( \\mu \\) est la **taille de la population**.  \n",
    "  - \\( r(i) \\) est le **rang** de l’individu.  \n",
    "\n",
    "---\n"
   ]
  },
  {
   "cell_type": "code",
   "execution_count": 47,
   "metadata": {},
   "outputs": [
    {
     "name": "stdout",
     "output_type": "stream",
     "text": [
      "Selected individual (Rank-Based Selection):\n",
      "[0 0 1 1 1 0 0 1]\n"
     ]
    }
   ],
   "source": [
    "def rank_based_selection(population, fitness_values, s=1.5):\n",
    "    \n",
    "    sorted_indices = np.argsort(fitness_values)  # Sort individuals by fitness\n",
    "    ranks = np.argsort(sorted_indices) + 1  # Rank of each individual (1-based)\n",
    "    mu = len(population)\n",
    "    \n",
    "    probabilities = (2 - s) / mu + (2 * ranks * (s - 1)) / (mu * (mu - 1))\n",
    "    probabilities /= probabilities.sum()  # Normalize to get probabilities\n",
    "    \n",
    "    selected_index = np.random.choice(len(population), p=probabilities)\n",
    "    return population[selected_index]\n",
    "\n",
    "# Example usage\n",
    "selected_individual_rank = rank_based_selection(population_max_one, fitness_values)\n",
    "print(\"Selected individual (Rank-Based Selection):\")\n",
    "print(selected_individual_rank)\n"
   ]
  },
  {
   "cell_type": "markdown",
   "metadata": {},
   "source": [
    "\n",
    "### **4. Reproduction**  \n",
    "#### **Crossover (Croisement) – Probabilité Élevée**  \n",
    "- **Héritabilité** : Transmission des caractéristiques des parents.  \n",
    "- **Validité** : Maintien de solutions valides.  \n"
   ]
  },
  {
   "cell_type": "code",
   "execution_count": 48,
   "metadata": {},
   "outputs": [
    {
     "data": {
      "text/plain": [
       "array([[0, 0, 1, 1, 1, 0, 0, 1],\n",
       "       [0, 1, 0, 1, 0, 0, 0, 0],\n",
       "       [0, 0, 1, 0, 1, 0, 0, 1],\n",
       "       [1, 1, 0, 1, 0, 1, 0, 0],\n",
       "       [0, 0, 1, 0, 1, 0, 1, 0],\n",
       "       [0, 1, 1, 1, 0, 0, 0, 0],\n",
       "       [1, 0, 1, 0, 1, 0, 1, 0],\n",
       "       [1, 0, 0, 1, 1, 1, 1, 0],\n",
       "       [1, 1, 0, 1, 1, 1, 1, 0],\n",
       "       [1, 1, 0, 1, 1, 1, 0, 0]], dtype=int32)"
      ]
     },
     "execution_count": 48,
     "metadata": {},
     "output_type": "execute_result"
    }
   ],
   "source": [
    "def one_point_crossover_population(population, crossover_rate=0.8):\n",
    "    \n",
    "    new_population = []\n",
    "    np.random.shuffle(population)  # Shuffle population to randomly pair parents\n",
    "    \n",
    "    for i in range(0, len(population) - 1, 2):  # Process in pairs\n",
    "        parent1, parent2 = population[i], population[i + 1]\n",
    "        if np.random.rand() < crossover_rate:\n",
    "            offspring1, offspring2 = one_point_crossover(parent1, parent2)\n",
    "            new_population.extend([offspring1, offspring2])\n",
    "        else:\n",
    "            new_population.extend([parent1, parent2])  # No crossover, keep parents\n",
    "        \n",
    "    # If odd number of individuals, keep the last one\n",
    "    if len(population) % 2 == 1:\n",
    "        new_population.append(population[-1])\n",
    "\n",
    "    return np.array(new_population)\n",
    "\n",
    "# Apply crossover to the population\n",
    "population_max_one = one_point_crossover_population(population_max_one)\n",
    "population_max_one"
   ]
  },
  {
   "cell_type": "markdown",
   "metadata": {},
   "source": [
    "\n",
    "#### **Mutation (Faible Probabilité)**  \n",
    "- **Localité** : Modifie légèrement un individu pour explorer de nouvelles solutions.  \n",
    "- **Validité** : Maintient une solution acceptable après mutation.  \n",
    "\n",
    "- **Exemple de mutation** :  \n",
    "  - Avant mutation : `1 0 0 1 **1** 0 1 1`  \n",
    "  - Après mutation  : `1 0 0 1 **0** 0 1 1`  \n",
    "\n",
    "- **Avantage** :  \n",
    "  ✅ Introduit de nouvelles variations pour éviter les **optima locaux**.  \n",
    "\n",
    "---\n"
   ]
  },
  {
   "cell_type": "code",
   "execution_count": 49,
   "metadata": {},
   "outputs": [
    {
     "name": "stdout",
     "output_type": "stream",
     "text": [
      "Mutated population:\n",
      "[[0 1 1 1 1 0 0 1]\n",
      " [0 1 0 1 1 0 0 0]\n",
      " [0 0 0 0 1 0 0 1]\n",
      " [0 1 0 1 0 1 0 0]\n",
      " [0 0 1 0 1 1 1 0]\n",
      " [0 1 1 1 0 0 0 1]\n",
      " [1 1 1 0 1 0 1 0]\n",
      " [1 0 0 1 1 1 0 0]\n",
      " [1 1 0 0 1 1 1 0]\n",
      " [1 1 0 1 1 1 1 0]]\n"
     ]
    }
   ],
   "source": [
    "def mutate_one_bit(individual):\n",
    "    mutation_index = np.random.randint(len(individual))\n",
    "    mutated_individual = np.copy(individual)\n",
    "    mutated_individual[mutation_index] = 1 - mutated_individual[mutation_index]\n",
    "    return mutated_individual\n",
    "\n",
    "def mutate_population(population):\n",
    "    for i in range(len(population)):\n",
    "        population[i] = mutate_one_bit(population[i])\n",
    "    return population\n",
    "\n",
    "# Apply mutation to the population\n",
    "population_max_one = mutate_population(population_max_one)\n",
    "print(\"Mutated population:\")\n",
    "print(population_max_one)\n"
   ]
  },
  {
   "cell_type": "markdown",
   "metadata": {},
   "source": [
    "\n",
    "### **5. Évaluation**  \n",
    "- **Mesure la qualité des solutions** via la **fonction de fitness**.  \n",
    "- Guide la convergence vers une solution optimale.  \n",
    "\n",
    "---\n",
    "Fitness Calculation :\tCounts the number of 1s in each individual\n",
    "\n",
    "Population Evaluation :\tApplies fitness function to all individuals\t\n",
    "\n",
    "Convergence Check : Checks if an individual has all 1s\n"
   ]
  },
  {
   "cell_type": "code",
   "execution_count": 50,
   "metadata": {},
   "outputs": [
    {
     "name": "stdout",
     "output_type": "stream",
     "text": [
      "Fitness values after reproduction:\n",
      "[5 3 2 3 4 4 5 4 5 6]\n",
      "Best fitness in population: 6/8\n"
     ]
    }
   ],
   "source": [
    "# Evaluate the population after reproduction (crossover + mutation)\n",
    "fitness_values = evaluate_population(population_max_one)\n",
    "\n",
    "# Display results\n",
    "print(\"Fitness values after reproduction:\")\n",
    "print(fitness_values)\n",
    "\n",
    "# Check if the optimal solution (all 1s) has been reached\n",
    "optimal_fitness = num_genes  # Maximum possible fitness (all 1s)\n",
    "best_fitness = np.max(fitness_values)\n",
    "\n",
    "if best_fitness == optimal_fitness:\n",
    "    print(\"Optimal solution reached! \")\n",
    "else:\n",
    "    print(f\"Best fitness in population: {best_fitness}/{optimal_fitness}\")\n"
   ]
  },
  {
   "cell_type": "markdown",
   "metadata": {},
   "source": [
    "\n",
    "### **6. Remplacement (Replacement)**  \n",
    "- **Sélection des survivants** : Parents vs. Offsprings.  \n",
    "- **Stratégies de remplacement** :  \n",
    "  - **Générationnelle** : Les **descendants remplacent** totalement la population précédente.  \n",
    "  - **Steady-State** : Seul le **pire parent est remplacé** par le meilleur descendant.  \n",
    "  - **Élitisme** : **Les meilleurs individus** sont conservés à travers les générations.  \n"
   ]
  },
  {
   "cell_type": "code",
   "execution_count": 51,
   "metadata": {},
   "outputs": [],
   "source": [
    "def generational_replacement(offspring_population):\n",
    "    \n",
    "    return np.copy(offspring_population)\n",
    "\n",
    "def steady_state_replacement(population, offspring_population, fitness_values):\n",
    "    \n",
    "    worst_parent_index = np.argmin(fitness_values)  # Find worst individual\n",
    "    best_offspring_index = np.argmax([np.sum(ind) for ind in offspring_population])  # Find best offspring\n",
    "    \n",
    "    # Replace worst parent with best offspring\n",
    "    population[worst_parent_index] = offspring_population[best_offspring_index]\n",
    "    \n",
    "    return population\n",
    "\n",
    "def elitist_replacement(population, offspring_population, fitness_values):\n",
    "    \n",
    "    # Identify the best individual from the current population\n",
    "    best_individual_index = np.argmax(fitness_values)\n",
    "    best_individual = population[best_individual_index]  # Best solution from previous gen\n",
    "    \n",
    "    # Compute offspring fitness\n",
    "    offspring_fitness = np.array([np.sum(ind) for ind in offspring_population])\n",
    "\n",
    "    # Find the worst individual in the offspring population\n",
    "    worst_offspring_index = np.argmin(offspring_fitness)\n",
    "\n",
    "    # Replace the worst offspring with the best previous individual (if needed)\n",
    "    new_population = np.copy(offspring_population)\n",
    "    if np.sum(best_individual) > offspring_fitness[worst_offspring_index]:  \n",
    "        new_population[worst_offspring_index] = best_individual  # Keep the best from the previous generation\n",
    "\n",
    "    return new_population\n"
   ]
  },
  {
   "cell_type": "markdown",
   "metadata": {},
   "source": [
    "\n",
    "#### **Critères d'arrêt**  \n",
    "- **Statique** → L'algo s'arrête après un nombre d'**itérations max**.  \n",
    "- **Dynamique** → L'algo s'arrête après n itérations sans amélioration** ou critères statistiques.  \n",
    "\n",
    "---\n"
   ]
  },
  {
   "cell_type": "code",
   "execution_count": 52,
   "metadata": {},
   "outputs": [],
   "source": [
    "def check_termination_criteria(fitness_values, max_iterations, no_improvement_limit, iteration, best_fitness_history):\n",
    "    # Static stopping criteria: Maximum iterations reached\n",
    "    if iteration >= max_iterations:\n",
    "        return True\n",
    "\n",
    "    # Dynamic stopping criteria: No improvement for X iterations\n",
    "    if len(best_fitness_history) > no_improvement_limit:\n",
    "        if best_fitness_history[-no_improvement_limit:] == [best_fitness_history[-1]] * no_improvement_limit:\n",
    "            return True\n",
    "\n",
    "    return False\n"
   ]
  },
  {
   "cell_type": "markdown",
   "metadata": {},
   "source": [
    "## Test Complet : Genetic Algorithm for Max-One Problem"
   ]
  },
  {
   "cell_type": "code",
   "execution_count": 53,
   "metadata": {},
   "outputs": [
    {
     "name": "stdout",
     "output_type": "stream",
     "text": [
      "Stopping criteria met. Ending optimization.\n",
      "\n",
      "Final Best Solution: [1 1 1 1 1 1 1 1]\n",
      "Final Best Fitness: 8\n"
     ]
    }
   ],
   "source": [
    "\n",
    "# --------- PHASE 1: INITIALIZATION ---------\n",
    "num_genes = 8\n",
    "population_size = 10\n",
    "Q = 5\n",
    "max_iterations = 50\n",
    "no_improvement_limit = 10\n",
    "\n",
    "# Initialize population\n",
    "population_max_one = initialize_population(num_genes, population_size, Q)\n",
    "best_fitness_history = []\n",
    "\n",
    "# --------- PHASE 2: GENETIC ALGORITHM LOOP ---------\n",
    "for iteration in range(max_iterations):\n",
    "    # Evaluate fitness\n",
    "    fitness_values = evaluate_population(population_max_one)\n",
    "    best_fitness = np.max(fitness_values)\n",
    "    best_fitness_history.append(best_fitness)\n",
    "\n",
    "    # Check termination criteria\n",
    "    if check_termination_criteria(fitness_values, max_iterations, no_improvement_limit, iteration, best_fitness_history):\n",
    "        print(\"Stopping criteria met. Ending optimization.\")\n",
    "        break\n",
    "\n",
    "    # Selection (Tournament Selection for entire population)\n",
    "    selected_population = np.array([tournament_selection(population_max_one, fitness_values) for _ in range(population_size)])\n",
    "\n",
    "    # Crossover (Every individual is crossed deterministically)\n",
    "    offspring_population = one_point_crossover_population(selected_population)\n",
    "\n",
    "    # Mutation (Every individual undergoes mutation deterministically)\n",
    "    offspring_population = mutate_population(offspring_population)\n",
    "\n",
    "    # Replacement (Choose one strategy below)\n",
    "    # population_max_one = generational_replacement(offspring_population)\n",
    "    # population_max_one = steady_state_replacement(population_max_one, offspring_population, fitness_values)\n",
    "    population_max_one = elitist_replacement(population_max_one, offspring_population, fitness_values)\n",
    "\n",
    "# --------- FINAL EVALUATION ---------\n",
    "fitness_values = evaluate_population(population_max_one)\n",
    "best_solution = population_max_one[np.argmax(fitness_values)]\n",
    "print(\"\\nFinal Best Solution:\", best_solution)\n",
    "print(\"Final Best Fitness:\", np.max(fitness_values))\n"
   ]
  },
  {
   "cell_type": "code",
   "execution_count": 55,
   "metadata": {},
   "outputs": [
    {
     "data": {
      "image/png": "[encoded data removed]",
      "text/plain": [
       "<Figure size 640x480 with 1 Axes>"
      ]
     },
     "metadata": {},
     "output_type": "display_data"
    }
   ],
   "source": [
    "# plot \n",
    "import matplotlib.pyplot as plt\n",
    "\n",
    "plt.plot(best_fitness_history)\n",
    "plt.xlabel(\"Iteration\")\n",
    "plt.ylabel(\"Best Fitness\")\n",
    "plt.title(\"Genetic Algorithm for Max-One Problem\")\n",
    "plt.grid(True)\n",
    "\n",
    "plt.show()\n"
   ]
  },
  {
   "cell_type": "markdown",
   "metadata": {},
   "source": []
  }
 ],
 "metadata": {
  "kernelspec": {
   "display_name": "nolan_env",
   "language": "python",
   "name": "python3"
  },
  "language_info": {
   "codemirror_mode": {
    "name": "ipython",
    "version": 3
   },
   "file_extension": ".py",
   "mimetype": "text/x-python",
   "name": "python",
   "nbconvert_exporter": "python",
   "pygments_lexer": "ipython3",
   "version": "3.12.8"
  }
 },
 "nbformat": 4,
 "nbformat_minor": 2
}
